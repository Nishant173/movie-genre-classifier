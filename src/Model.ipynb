{
 "cells": [
  {
   "cell_type": "markdown",
   "metadata": {},
   "source": [
    "# Objective/s\n",
    "\n",
    "- The purpose of this notebook is to build a Machine Learning model that predicts genre/s of a movie, given a text corpus of it's plot.\n",
    "- The model will be trained on around 40000 examples.\n",
    "- Model related files will be pickled (saved) and used to make predictions on new data.\n",
    "\n",
    "### NOTE: I have created a few helper scripts (present in same directory as this notebook) to keep things clean and modular."
   ]
  },
  {
   "cell_type": "code",
   "execution_count": 1,
   "metadata": {},
   "outputs": [],
   "source": [
    "from collections import namedtuple\n",
    "from itertools import product\n",
    "from nltk.corpus import stopwords\n",
    "import pandas as pd\n",
    "from sklearn.feature_extraction.text import TfidfVectorizer\n",
    "from sklearn.linear_model import LogisticRegression\n",
    "from sklearn.metrics import f1_score\n",
    "from sklearn.model_selection import train_test_split\n",
    "from sklearn.multiclass import OneVsRestClassifier\n",
    "from sklearn.preprocessing import MultiLabelBinarizer\n",
    "\n",
    "import warnings\n",
    "warnings.filterwarnings(action='ignore')"
   ]
  },
  {
   "cell_type": "code",
   "execution_count": 2,
   "metadata": {},
   "outputs": [],
   "source": [
    "import config\n",
    "import data_reader\n",
    "import predict\n",
    "import text_cleaner\n",
    "import utils"
   ]
  },
  {
   "cell_type": "code",
   "execution_count": 3,
   "metadata": {},
   "outputs": [],
   "source": [
    "pd.set_option('display.max_columns', None)"
   ]
  },
  {
   "cell_type": "markdown",
   "metadata": {},
   "source": [
    "# Either load the already pre-processed data or read raw data and clean/pre-process from scratch"
   ]
  },
  {
   "cell_type": "code",
   "execution_count": 4,
   "metadata": {},
   "outputs": [
    {
     "name": "stdout",
     "output_type": "stream",
     "text": [
      "Success!\n",
      "Wall time: 812 ms\n"
     ]
    }
   ],
   "source": [
    "%%time\n",
    "\n",
    "if config.LOAD_PREPROCESSED_DATA:\n",
    "    try:\n",
    "        df_movie = utils.pickle_load(filepath=config.PATH_MOVIE_DATA_PREPROCESSED)\n",
    "        print(\"Success!\")\n",
    "    except FileNotFoundError:\n",
    "        print(\n",
    "            \"Error!\",\n",
    "            \"You cannot load preprocessed data since said file doesn't exist on your device.\",\n",
    "            \"Go to config.py (in current directory) and set `LOAD_PREPROCESSED_DATA` to False.\",\n",
    "            \"This will create a Pickle file that can then be loaded (during your next usage) by setting `LOAD_PREPROCESSED_DATA` to True.\",\n",
    "            \"\",\n",
    "            sep=\"\\n\"\n",
    "        )\n",
    "else:\n",
    "    df_movie = data_reader.get_movie_data()\n",
    "    stopwords_list = list(set(stopwords.words('english')))\n",
    "    df_movie['Plot'] = df_movie['Plot'].apply(text_cleaner.clean_text, stopwords_list=stopwords_list)\n",
    "    utils.pickle_save(data_obj=df_movie, filepath=config.PATH_MOVIE_DATA_PREPROCESSED)\n",
    "    print(\"Success!\")"
   ]
  },
  {
   "cell_type": "markdown",
   "metadata": {},
   "source": [
    "# Viewing the data"
   ]
  },
  {
   "cell_type": "code",
   "execution_count": 5,
   "metadata": {},
   "outputs": [
    {
     "name": "stdout",
     "output_type": "stream",
     "text": [
      "<class 'pandas.core.frame.DataFrame'>\n",
      "RangeIndex: 42204 entries, 0 to 42203\n",
      "Data columns (total 4 columns):\n",
      " #   Column     Non-Null Count  Dtype \n",
      "---  ------     --------------  ----- \n",
      " 0   MovieId    42204 non-null  object\n",
      " 1   MovieName  42204 non-null  object\n",
      " 2   Genre      42204 non-null  object\n",
      " 3   Plot       42204 non-null  object\n",
      "dtypes: object(4)\n",
      "memory usage: 1.3+ MB\n"
     ]
    }
   ],
   "source": [
    "df_movie.info()"
   ]
  },
  {
   "cell_type": "code",
   "execution_count": 6,
   "metadata": {},
   "outputs": [
    {
     "data": {
      "text/html": [
       "<div>\n",
       "<style scoped>\n",
       "    .dataframe tbody tr th:only-of-type {\n",
       "        vertical-align: middle;\n",
       "    }\n",
       "\n",
       "    .dataframe tbody tr th {\n",
       "        vertical-align: top;\n",
       "    }\n",
       "\n",
       "    .dataframe thead th {\n",
       "        text-align: right;\n",
       "    }\n",
       "</style>\n",
       "<table border=\"1\" class=\"dataframe\">\n",
       "  <thead>\n",
       "    <tr style=\"text-align: right;\">\n",
       "      <th></th>\n",
       "      <th>MovieId</th>\n",
       "      <th>MovieName</th>\n",
       "      <th>Genre</th>\n",
       "      <th>Plot</th>\n",
       "    </tr>\n",
       "  </thead>\n",
       "  <tbody>\n",
       "    <tr>\n",
       "      <th>0</th>\n",
       "      <td>975900</td>\n",
       "      <td>Ghosts of Mars</td>\n",
       "      <td>[Thriller, Science Fiction, Horror, Adventure,...</td>\n",
       "      <td>set second half nd centuri film depict mar pla...</td>\n",
       "    </tr>\n",
       "    <tr>\n",
       "      <th>1</th>\n",
       "      <td>9363483</td>\n",
       "      <td>White Of The Eye</td>\n",
       "      <td>[Thriller, Erotic thriller, Psychological thri...</td>\n",
       "      <td>seri murder rich young women throughout arizon...</td>\n",
       "    </tr>\n",
       "    <tr>\n",
       "      <th>2</th>\n",
       "      <td>261236</td>\n",
       "      <td>A Woman in Flames</td>\n",
       "      <td>[Drama]</td>\n",
       "      <td>eva upper class housewif becom frustrat leav a...</td>\n",
       "    </tr>\n",
       "    <tr>\n",
       "      <th>3</th>\n",
       "      <td>18998739</td>\n",
       "      <td>The Sorcerer's Apprentice</td>\n",
       "      <td>[Family Film, Fantasy, Adventure, World cinema]</td>\n",
       "      <td>everi hundr year evil morgana return claim fin...</td>\n",
       "    </tr>\n",
       "    <tr>\n",
       "      <th>4</th>\n",
       "      <td>6631279</td>\n",
       "      <td>Little city</td>\n",
       "      <td>[Romantic comedy, Ensemble Film, Comedy-drama,...</td>\n",
       "      <td>adam san francisco base artist work cab driver...</td>\n",
       "    </tr>\n",
       "  </tbody>\n",
       "</table>\n",
       "</div>"
      ],
      "text/plain": [
       "    MovieId                  MovieName  \\\n",
       "0    975900             Ghosts of Mars   \n",
       "1   9363483           White Of The Eye   \n",
       "2    261236          A Woman in Flames   \n",
       "3  18998739  The Sorcerer's Apprentice   \n",
       "4   6631279                Little city   \n",
       "\n",
       "                                               Genre  \\\n",
       "0  [Thriller, Science Fiction, Horror, Adventure,...   \n",
       "1  [Thriller, Erotic thriller, Psychological thri...   \n",
       "2                                            [Drama]   \n",
       "3    [Family Film, Fantasy, Adventure, World cinema]   \n",
       "4  [Romantic comedy, Ensemble Film, Comedy-drama,...   \n",
       "\n",
       "                                                Plot  \n",
       "0  set second half nd centuri film depict mar pla...  \n",
       "1  seri murder rich young women throughout arizon...  \n",
       "2  eva upper class housewif becom frustrat leav a...  \n",
       "3  everi hundr year evil morgana return claim fin...  \n",
       "4  adam san francisco base artist work cab driver...  "
      ]
     },
     "execution_count": 6,
     "metadata": {},
     "output_type": "execute_result"
    }
   ],
   "source": [
    "df_movie.head()"
   ]
  },
  {
   "cell_type": "markdown",
   "metadata": {},
   "source": [
    "# Figure out hyperparams"
   ]
  },
  {
   "cell_type": "code",
   "execution_count": 7,
   "metadata": {},
   "outputs": [],
   "source": [
    "def get_f1_score_by_thresh(thresh, X_test, y_test, ovr_clf):\n",
    "    y_pred_prob = ovr_clf.predict_proba(X=X_test)\n",
    "    y_pred_new = (y_pred_prob >= thresh).astype(int)\n",
    "    f1_score_by_thresh = f1_score(y_true=y_test, y_pred=y_pred_new, average=\"micro\")\n",
    "    return round(f1_score_by_thresh, 5)\n",
    "\n",
    "def get_runs(dictionary_hyperparams):\n",
    "    \"\"\"\n",
    "    Takes in dictionary of hyperparams and returns list of runs wherein\n",
    "    each run contains hyperparams to be used for experimentation.\n",
    "    \"\"\"\n",
    "    run_tuple = namedtuple('Run', dictionary_hyperparams.keys())\n",
    "    runs_list = []\n",
    "    for value in product(*dictionary_hyperparams.values()):\n",
    "        runs_list.append(run_tuple(*value))\n",
    "    return runs_list"
   ]
  },
  {
   "cell_type": "code",
   "execution_count": 10,
   "metadata": {},
   "outputs": [
    {
     "data": {
      "text/plain": [
       "[Run(max_df=0.65, max_features=9000),\n",
       " Run(max_df=0.7, max_features=7000),\n",
       " Run(max_df=0.7, max_features=8000),\n",
       " Run(max_df=0.85, max_features=10000),\n",
       " Run(max_df=0.8, max_features=9000),\n",
       " Run(max_df=0.8, max_features=8000),\n",
       " Run(max_df=0.7, max_features=9000),\n",
       " Run(max_df=0.85, max_features=7000),\n",
       " Run(max_df=0.75, max_features=8000),\n",
       " Run(max_df=0.75, max_features=7000),\n",
       " Run(max_df=0.65, max_features=8000),\n",
       " Run(max_df=0.65, max_features=7000),\n",
       " Run(max_df=0.65, max_features=10000),\n",
       " Run(max_df=0.65, max_features=11000),\n",
       " Run(max_df=0.85, max_features=11000),\n",
       " Run(max_df=0.75, max_features=10000),\n",
       " Run(max_df=0.85, max_features=9000),\n",
       " Run(max_df=0.8, max_features=10000),\n",
       " Run(max_df=0.75, max_features=11000),\n",
       " Run(max_df=0.8, max_features=7000),\n",
       " Run(max_df=0.75, max_features=9000),\n",
       " Run(max_df=0.8, max_features=11000),\n",
       " Run(max_df=0.7, max_features=11000),\n",
       " Run(max_df=0.85, max_features=8000),\n",
       " Run(max_df=0.7, max_features=10000)]"
      ]
     },
     "execution_count": 10,
     "metadata": {},
     "output_type": "execute_result"
    }
   ],
   "source": [
    "dictionary_hyperparams = {\n",
    "    'max_df': [0.65, 0.7, 0.75, 0.8, 0.85],\n",
    "    'max_features': [7000, 8000, 9000, 10000, 11000]\n",
    "}\n",
    "\n",
    "runs = get_runs(dictionary_hyperparams=dictionary_hyperparams)\n",
    "runs = pd.Series(data=runs).sample(len(runs)).tolist() # Shuffle order of runs\n",
    "runs"
   ]
  },
  {
   "cell_type": "code",
   "execution_count": 46,
   "metadata": {},
   "outputs": [
    {
     "name": "stdout",
     "output_type": "stream",
     "text": [
      "Run(max_df=0.65, max_features=9000)\n",
      "Run(max_df=0.7, max_features=7000)\n",
      "Run(max_df=0.7, max_features=8000)\n",
      "Run(max_df=0.85, max_features=10000)\n",
      "Run(max_df=0.8, max_features=9000)\n",
      "Run(max_df=0.8, max_features=8000)\n",
      "Run(max_df=0.7, max_features=9000)\n",
      "Run(max_df=0.85, max_features=7000)\n",
      "Run(max_df=0.75, max_features=8000)\n",
      "Run(max_df=0.75, max_features=7000)\n",
      "Run(max_df=0.65, max_features=8000)\n",
      "Run(max_df=0.65, max_features=7000)\n",
      "Run(max_df=0.65, max_features=10000)\n",
      "Run(max_df=0.65, max_features=11000)\n",
      "Run(max_df=0.85, max_features=11000)\n",
      "Run(max_df=0.75, max_features=10000)\n"
     ]
    },
    {
     "ename": "KeyboardInterrupt",
     "evalue": "",
     "output_type": "error",
     "traceback": [
      "\u001b[1;31m-----------------------------------------------------------------\u001b[0m",
      "\u001b[1;31mKeyboardInterrupt\u001b[0m               Traceback (most recent call last)",
      "\u001b[1;32m<timed exec>\u001b[0m in \u001b[0;36m<module>\u001b[1;34m()\u001b[0m\n",
      "\u001b[1;32mD:\\Anaconda\\lib\\site-packages\\sklearn\\multiclass.py\u001b[0m in \u001b[0;36mfit\u001b[1;34m(self, X, y)\u001b[0m\n\u001b[0;32m    226\u001b[0m         \u001b[1;31m# overall.\u001b[0m\u001b[1;33m\u001b[0m\u001b[1;33m\u001b[0m\u001b[1;33m\u001b[0m\u001b[0m\n\u001b[0;32m    227\u001b[0m         \u001b[0mself\u001b[0m\u001b[1;33m.\u001b[0m\u001b[0mlabel_binarizer_\u001b[0m \u001b[1;33m=\u001b[0m \u001b[0mLabelBinarizer\u001b[0m\u001b[1;33m(\u001b[0m\u001b[0msparse_output\u001b[0m\u001b[1;33m=\u001b[0m\u001b[1;32mTrue\u001b[0m\u001b[1;33m)\u001b[0m\u001b[1;33m\u001b[0m\u001b[1;33m\u001b[0m\u001b[0m\n\u001b[1;32m--> 228\u001b[1;33m         \u001b[0mY\u001b[0m \u001b[1;33m=\u001b[0m \u001b[0mself\u001b[0m\u001b[1;33m.\u001b[0m\u001b[0mlabel_binarizer_\u001b[0m\u001b[1;33m.\u001b[0m\u001b[0mfit_transform\u001b[0m\u001b[1;33m(\u001b[0m\u001b[0my\u001b[0m\u001b[1;33m)\u001b[0m\u001b[1;33m\u001b[0m\u001b[1;33m\u001b[0m\u001b[0m\n\u001b[0m\u001b[0;32m    229\u001b[0m         \u001b[0mY\u001b[0m \u001b[1;33m=\u001b[0m \u001b[0mY\u001b[0m\u001b[1;33m.\u001b[0m\u001b[0mtocsc\u001b[0m\u001b[1;33m(\u001b[0m\u001b[1;33m)\u001b[0m\u001b[1;33m\u001b[0m\u001b[1;33m\u001b[0m\u001b[0m\n\u001b[0;32m    230\u001b[0m         \u001b[0mself\u001b[0m\u001b[1;33m.\u001b[0m\u001b[0mclasses_\u001b[0m \u001b[1;33m=\u001b[0m \u001b[0mself\u001b[0m\u001b[1;33m.\u001b[0m\u001b[0mlabel_binarizer_\u001b[0m\u001b[1;33m.\u001b[0m\u001b[0mclasses_\u001b[0m\u001b[1;33m\u001b[0m\u001b[1;33m\u001b[0m\u001b[0m\n",
      "\u001b[1;32mD:\\Anaconda\\lib\\site-packages\\sklearn\\preprocessing\\_label.py\u001b[0m in \u001b[0;36mfit_transform\u001b[1;34m(self, y)\u001b[0m\n\u001b[0;32m    453\u001b[0m             \u001b[0mShape\u001b[0m \u001b[0mwill\u001b[0m \u001b[0mbe\u001b[0m \u001b[1;33m[\u001b[0m\u001b[0mn_samples\u001b[0m\u001b[1;33m,\u001b[0m \u001b[1;36m1\u001b[0m\u001b[1;33m]\u001b[0m \u001b[1;32mfor\u001b[0m \u001b[0mbinary\u001b[0m \u001b[0mproblems\u001b[0m\u001b[1;33m.\u001b[0m\u001b[1;33m\u001b[0m\u001b[1;33m\u001b[0m\u001b[0m\n\u001b[0;32m    454\u001b[0m         \"\"\"\n\u001b[1;32m--> 455\u001b[1;33m         \u001b[1;32mreturn\u001b[0m \u001b[0mself\u001b[0m\u001b[1;33m.\u001b[0m\u001b[0mfit\u001b[0m\u001b[1;33m(\u001b[0m\u001b[0my\u001b[0m\u001b[1;33m)\u001b[0m\u001b[1;33m.\u001b[0m\u001b[0mtransform\u001b[0m\u001b[1;33m(\u001b[0m\u001b[0my\u001b[0m\u001b[1;33m)\u001b[0m\u001b[1;33m\u001b[0m\u001b[1;33m\u001b[0m\u001b[0m\n\u001b[0m\u001b[0;32m    456\u001b[0m \u001b[1;33m\u001b[0m\u001b[0m\n\u001b[0;32m    457\u001b[0m     \u001b[1;32mdef\u001b[0m \u001b[0mtransform\u001b[0m\u001b[1;33m(\u001b[0m\u001b[0mself\u001b[0m\u001b[1;33m,\u001b[0m \u001b[0my\u001b[0m\u001b[1;33m)\u001b[0m\u001b[1;33m:\u001b[0m\u001b[1;33m\u001b[0m\u001b[1;33m\u001b[0m\u001b[0m\n",
      "\u001b[1;32mD:\\Anaconda\\lib\\site-packages\\sklearn\\preprocessing\\_label.py\u001b[0m in \u001b[0;36mtransform\u001b[1;34m(self, y)\u001b[0m\n\u001b[0;32m    484\u001b[0m                               \u001b[0mpos_label\u001b[0m\u001b[1;33m=\u001b[0m\u001b[0mself\u001b[0m\u001b[1;33m.\u001b[0m\u001b[0mpos_label\u001b[0m\u001b[1;33m,\u001b[0m\u001b[1;33m\u001b[0m\u001b[1;33m\u001b[0m\u001b[0m\n\u001b[0;32m    485\u001b[0m                               \u001b[0mneg_label\u001b[0m\u001b[1;33m=\u001b[0m\u001b[0mself\u001b[0m\u001b[1;33m.\u001b[0m\u001b[0mneg_label\u001b[0m\u001b[1;33m,\u001b[0m\u001b[1;33m\u001b[0m\u001b[1;33m\u001b[0m\u001b[0m\n\u001b[1;32m--> 486\u001b[1;33m                               sparse_output=self.sparse_output)\n\u001b[0m\u001b[0;32m    487\u001b[0m \u001b[1;33m\u001b[0m\u001b[0m\n\u001b[0;32m    488\u001b[0m     \u001b[1;32mdef\u001b[0m \u001b[0minverse_transform\u001b[0m\u001b[1;33m(\u001b[0m\u001b[0mself\u001b[0m\u001b[1;33m,\u001b[0m \u001b[0mY\u001b[0m\u001b[1;33m,\u001b[0m \u001b[0mthreshold\u001b[0m\u001b[1;33m=\u001b[0m\u001b[1;32mNone\u001b[0m\u001b[1;33m)\u001b[0m\u001b[1;33m:\u001b[0m\u001b[1;33m\u001b[0m\u001b[1;33m\u001b[0m\u001b[0m\n",
      "\u001b[1;32mD:\\Anaconda\\lib\\site-packages\\sklearn\\preprocessing\\_label.py\u001b[0m in \u001b[0;36mlabel_binarize\u001b[1;34m(y, classes, neg_label, pos_label, sparse_output)\u001b[0m\n\u001b[0;32m    664\u001b[0m                           shape=(n_samples, n_classes))\n\u001b[0;32m    665\u001b[0m     \u001b[1;32melif\u001b[0m \u001b[0my_type\u001b[0m \u001b[1;33m==\u001b[0m \u001b[1;34m\"multilabel-indicator\"\u001b[0m\u001b[1;33m:\u001b[0m\u001b[1;33m\u001b[0m\u001b[1;33m\u001b[0m\u001b[0m\n\u001b[1;32m--> 666\u001b[1;33m         \u001b[0mY\u001b[0m \u001b[1;33m=\u001b[0m \u001b[0msp\u001b[0m\u001b[1;33m.\u001b[0m\u001b[0mcsr_matrix\u001b[0m\u001b[1;33m(\u001b[0m\u001b[0my\u001b[0m\u001b[1;33m)\u001b[0m\u001b[1;33m\u001b[0m\u001b[1;33m\u001b[0m\u001b[0m\n\u001b[0m\u001b[0;32m    667\u001b[0m         \u001b[1;32mif\u001b[0m \u001b[0mpos_label\u001b[0m \u001b[1;33m!=\u001b[0m \u001b[1;36m1\u001b[0m\u001b[1;33m:\u001b[0m\u001b[1;33m\u001b[0m\u001b[1;33m\u001b[0m\u001b[0m\n\u001b[0;32m    668\u001b[0m             \u001b[0mdata\u001b[0m \u001b[1;33m=\u001b[0m \u001b[0mnp\u001b[0m\u001b[1;33m.\u001b[0m\u001b[0mempty_like\u001b[0m\u001b[1;33m(\u001b[0m\u001b[0mY\u001b[0m\u001b[1;33m.\u001b[0m\u001b[0mdata\u001b[0m\u001b[1;33m)\u001b[0m\u001b[1;33m\u001b[0m\u001b[1;33m\u001b[0m\u001b[0m\n",
      "\u001b[1;32mD:\\Anaconda\\lib\\site-packages\\scipy\\sparse\\compressed.py\u001b[0m in \u001b[0;36m__init__\u001b[1;34m(self, arg1, shape, dtype, copy)\u001b[0m\n\u001b[0;32m     86\u001b[0m                                  \"\".format(self.format))\n\u001b[0;32m     87\u001b[0m             \u001b[1;32mfrom\u001b[0m \u001b[1;33m.\u001b[0m\u001b[0mcoo\u001b[0m \u001b[1;32mimport\u001b[0m \u001b[0mcoo_matrix\u001b[0m\u001b[1;33m\u001b[0m\u001b[1;33m\u001b[0m\u001b[0m\n\u001b[1;32m---> 88\u001b[1;33m             \u001b[0mself\u001b[0m\u001b[1;33m.\u001b[0m\u001b[0m_set_self\u001b[0m\u001b[1;33m(\u001b[0m\u001b[0mself\u001b[0m\u001b[1;33m.\u001b[0m\u001b[0m__class__\u001b[0m\u001b[1;33m(\u001b[0m\u001b[0mcoo_matrix\u001b[0m\u001b[1;33m(\u001b[0m\u001b[0marg1\u001b[0m\u001b[1;33m,\u001b[0m \u001b[0mdtype\u001b[0m\u001b[1;33m=\u001b[0m\u001b[0mdtype\u001b[0m\u001b[1;33m)\u001b[0m\u001b[1;33m)\u001b[0m\u001b[1;33m)\u001b[0m\u001b[1;33m\u001b[0m\u001b[1;33m\u001b[0m\u001b[0m\n\u001b[0m\u001b[0;32m     89\u001b[0m \u001b[1;33m\u001b[0m\u001b[0m\n\u001b[0;32m     90\u001b[0m         \u001b[1;31m# Read matrix dimensions given, if any\u001b[0m\u001b[1;33m\u001b[0m\u001b[1;33m\u001b[0m\u001b[1;33m\u001b[0m\u001b[0m\n",
      "\u001b[1;32mD:\\Anaconda\\lib\\site-packages\\scipy\\sparse\\coo.py\u001b[0m in \u001b[0;36m__init__\u001b[1;34m(self, arg1, shape, dtype, copy)\u001b[0m\n\u001b[0;32m    189\u001b[0m                                          (shape, self._shape))\n\u001b[0;32m    190\u001b[0m \u001b[1;33m\u001b[0m\u001b[0m\n\u001b[1;32m--> 191\u001b[1;33m                 \u001b[0mself\u001b[0m\u001b[1;33m.\u001b[0m\u001b[0mrow\u001b[0m\u001b[1;33m,\u001b[0m \u001b[0mself\u001b[0m\u001b[1;33m.\u001b[0m\u001b[0mcol\u001b[0m \u001b[1;33m=\u001b[0m \u001b[0mM\u001b[0m\u001b[1;33m.\u001b[0m\u001b[0mnonzero\u001b[0m\u001b[1;33m(\u001b[0m\u001b[1;33m)\u001b[0m\u001b[1;33m\u001b[0m\u001b[1;33m\u001b[0m\u001b[0m\n\u001b[0m\u001b[0;32m    192\u001b[0m                 \u001b[0mself\u001b[0m\u001b[1;33m.\u001b[0m\u001b[0mdata\u001b[0m \u001b[1;33m=\u001b[0m \u001b[0mM\u001b[0m\u001b[1;33m[\u001b[0m\u001b[0mself\u001b[0m\u001b[1;33m.\u001b[0m\u001b[0mrow\u001b[0m\u001b[1;33m,\u001b[0m \u001b[0mself\u001b[0m\u001b[1;33m.\u001b[0m\u001b[0mcol\u001b[0m\u001b[1;33m]\u001b[0m\u001b[1;33m\u001b[0m\u001b[1;33m\u001b[0m\u001b[0m\n\u001b[0;32m    193\u001b[0m                 \u001b[0mself\u001b[0m\u001b[1;33m.\u001b[0m\u001b[0mhas_canonical_format\u001b[0m \u001b[1;33m=\u001b[0m \u001b[1;32mTrue\u001b[0m\u001b[1;33m\u001b[0m\u001b[1;33m\u001b[0m\u001b[0m\n",
      "\u001b[1;31mKeyboardInterrupt\u001b[0m: "
     ]
    }
   ],
   "source": [
    "%%time\n",
    "\n",
    "df_hyperparams_used = pd.DataFrame()\n",
    "for run in runs:\n",
    "    print(run)\n",
    "    mlb = MultiLabelBinarizer()\n",
    "    X = df_movie['Plot']\n",
    "    y = mlb.fit_transform(df_movie['Genre'])\n",
    "\n",
    "    # Train-test split\n",
    "    X_train, X_test, y_train, y_test = train_test_split(X, y, test_size=0.2, random_state=0)\n",
    "\n",
    "    # Create features\n",
    "    tfidf = TfidfVectorizer(max_df=run.max_df, max_features=run.max_features)\n",
    "    X_train = tfidf.fit_transform(raw_documents=X_train)\n",
    "    X_test = tfidf.transform(raw_documents=X_test)\n",
    "\n",
    "    # Build classifier\n",
    "    log_reg = LogisticRegression()\n",
    "    ovr_clf = OneVsRestClassifier(estimator=log_reg)\n",
    "    ovr_clf.fit(X=X_train, y=y_train)\n",
    "    y_pred = ovr_clf.predict(X=X_test)\n",
    "    \n",
    "    df_temp = pd.DataFrame(data={\n",
    "        'max_df': run.max_df,\n",
    "        'max_features': run.max_features,\n",
    "        'f1_score_thresh50': get_f1_score_by_thresh(thresh=0.5, X_test=X_test, y_test=y_test, ovr_clf=ovr_clf),\n",
    "        'f1_score_thresh30': get_f1_score_by_thresh(thresh=0.3, X_test=X_test, y_test=y_test, ovr_clf=ovr_clf),\n",
    "        'f1_score_thresh25': get_f1_score_by_thresh(thresh=0.25, X_test=X_test, y_test=y_test, ovr_clf=ovr_clf),\n",
    "        'f1_score_thresh20': get_f1_score_by_thresh(thresh=0.2, X_test=X_test, y_test=y_test, ovr_clf=ovr_clf),\n",
    "    }, index=[0])\n",
    "    df_hyperparams_used = pd.concat(objs=[df_hyperparams_used, df_temp], axis=0, ignore_index=True, sort=False)\n",
    "\n",
    "f1_score_columns = ['f1_score_thresh50', 'f1_score_thresh30', 'f1_score_thresh25', 'f1_score_thresh20']\n",
    "df_hyperparams_used['highest_f1_score'] = df_hyperparams_used[f1_score_columns].max(axis=1)\n",
    "df_hyperparams_used.sort_values(by='highest_f1_score', ascending=False, ignore_index=True, inplace=True)"
   ]
  },
  {
   "cell_type": "code",
   "execution_count": 49,
   "metadata": {},
   "outputs": [
    {
     "data": {
      "text/html": [
       "<div>\n",
       "<style scoped>\n",
       "    .dataframe tbody tr th:only-of-type {\n",
       "        vertical-align: middle;\n",
       "    }\n",
       "\n",
       "    .dataframe tbody tr th {\n",
       "        vertical-align: top;\n",
       "    }\n",
       "\n",
       "    .dataframe thead th {\n",
       "        text-align: right;\n",
       "    }\n",
       "</style>\n",
       "<table border=\"1\" class=\"dataframe\">\n",
       "  <thead>\n",
       "    <tr style=\"text-align: right;\">\n",
       "      <th></th>\n",
       "      <th>max_df</th>\n",
       "      <th>max_features</th>\n",
       "      <th>f1_score_thresh50</th>\n",
       "      <th>f1_score_thresh30</th>\n",
       "      <th>f1_score_thresh25</th>\n",
       "      <th>f1_score_thresh20</th>\n",
       "      <th>highest_f1_score</th>\n",
       "    </tr>\n",
       "  </thead>\n",
       "  <tbody>\n",
       "    <tr>\n",
       "      <th>0</th>\n",
       "      <td>0.70</td>\n",
       "      <td>7000</td>\n",
       "      <td>0.32421</td>\n",
       "      <td>0.44383</td>\n",
       "      <td>0.46282</td>\n",
       "      <td>0.47459</td>\n",
       "      <td>0.47459</td>\n",
       "    </tr>\n",
       "    <tr>\n",
       "      <th>1</th>\n",
       "      <td>0.85</td>\n",
       "      <td>7000</td>\n",
       "      <td>0.32421</td>\n",
       "      <td>0.44383</td>\n",
       "      <td>0.46282</td>\n",
       "      <td>0.47459</td>\n",
       "      <td>0.47459</td>\n",
       "    </tr>\n",
       "    <tr>\n",
       "      <th>2</th>\n",
       "      <td>0.75</td>\n",
       "      <td>7000</td>\n",
       "      <td>0.32421</td>\n",
       "      <td>0.44383</td>\n",
       "      <td>0.46282</td>\n",
       "      <td>0.47459</td>\n",
       "      <td>0.47459</td>\n",
       "    </tr>\n",
       "    <tr>\n",
       "      <th>3</th>\n",
       "      <td>0.65</td>\n",
       "      <td>7000</td>\n",
       "      <td>0.32421</td>\n",
       "      <td>0.44383</td>\n",
       "      <td>0.46282</td>\n",
       "      <td>0.47459</td>\n",
       "      <td>0.47459</td>\n",
       "    </tr>\n",
       "    <tr>\n",
       "      <th>4</th>\n",
       "      <td>0.70</td>\n",
       "      <td>8000</td>\n",
       "      <td>0.32247</td>\n",
       "      <td>0.44337</td>\n",
       "      <td>0.46350</td>\n",
       "      <td>0.47414</td>\n",
       "      <td>0.47414</td>\n",
       "    </tr>\n",
       "    <tr>\n",
       "      <th>5</th>\n",
       "      <td>0.80</td>\n",
       "      <td>8000</td>\n",
       "      <td>0.32247</td>\n",
       "      <td>0.44337</td>\n",
       "      <td>0.46350</td>\n",
       "      <td>0.47414</td>\n",
       "      <td>0.47414</td>\n",
       "    </tr>\n",
       "    <tr>\n",
       "      <th>6</th>\n",
       "      <td>0.75</td>\n",
       "      <td>8000</td>\n",
       "      <td>0.32247</td>\n",
       "      <td>0.44337</td>\n",
       "      <td>0.46350</td>\n",
       "      <td>0.47414</td>\n",
       "      <td>0.47414</td>\n",
       "    </tr>\n",
       "    <tr>\n",
       "      <th>7</th>\n",
       "      <td>0.65</td>\n",
       "      <td>8000</td>\n",
       "      <td>0.32247</td>\n",
       "      <td>0.44337</td>\n",
       "      <td>0.46350</td>\n",
       "      <td>0.47414</td>\n",
       "      <td>0.47414</td>\n",
       "    </tr>\n",
       "    <tr>\n",
       "      <th>8</th>\n",
       "      <td>0.65</td>\n",
       "      <td>9000</td>\n",
       "      <td>0.32069</td>\n",
       "      <td>0.44351</td>\n",
       "      <td>0.46311</td>\n",
       "      <td>0.47409</td>\n",
       "      <td>0.47409</td>\n",
       "    </tr>\n",
       "    <tr>\n",
       "      <th>9</th>\n",
       "      <td>0.80</td>\n",
       "      <td>9000</td>\n",
       "      <td>0.32069</td>\n",
       "      <td>0.44351</td>\n",
       "      <td>0.46311</td>\n",
       "      <td>0.47409</td>\n",
       "      <td>0.47409</td>\n",
       "    </tr>\n",
       "    <tr>\n",
       "      <th>10</th>\n",
       "      <td>0.70</td>\n",
       "      <td>9000</td>\n",
       "      <td>0.32069</td>\n",
       "      <td>0.44351</td>\n",
       "      <td>0.46311</td>\n",
       "      <td>0.47409</td>\n",
       "      <td>0.47409</td>\n",
       "    </tr>\n",
       "    <tr>\n",
       "      <th>11</th>\n",
       "      <td>0.65</td>\n",
       "      <td>11000</td>\n",
       "      <td>0.31888</td>\n",
       "      <td>0.44184</td>\n",
       "      <td>0.46166</td>\n",
       "      <td>0.47366</td>\n",
       "      <td>0.47366</td>\n",
       "    </tr>\n",
       "    <tr>\n",
       "      <th>12</th>\n",
       "      <td>0.85</td>\n",
       "      <td>11000</td>\n",
       "      <td>0.31888</td>\n",
       "      <td>0.44184</td>\n",
       "      <td>0.46166</td>\n",
       "      <td>0.47366</td>\n",
       "      <td>0.47366</td>\n",
       "    </tr>\n",
       "    <tr>\n",
       "      <th>13</th>\n",
       "      <td>0.85</td>\n",
       "      <td>10000</td>\n",
       "      <td>0.31911</td>\n",
       "      <td>0.44255</td>\n",
       "      <td>0.46183</td>\n",
       "      <td>0.47317</td>\n",
       "      <td>0.47317</td>\n",
       "    </tr>\n",
       "    <tr>\n",
       "      <th>14</th>\n",
       "      <td>0.65</td>\n",
       "      <td>10000</td>\n",
       "      <td>0.31911</td>\n",
       "      <td>0.44255</td>\n",
       "      <td>0.46183</td>\n",
       "      <td>0.47317</td>\n",
       "      <td>0.47317</td>\n",
       "    </tr>\n",
       "  </tbody>\n",
       "</table>\n",
       "</div>"
      ],
      "text/plain": [
       "    max_df  max_features  f1_score_thresh50  f1_score_thresh30  \\\n",
       "0     0.70          7000            0.32421            0.44383   \n",
       "1     0.85          7000            0.32421            0.44383   \n",
       "2     0.75          7000            0.32421            0.44383   \n",
       "3     0.65          7000            0.32421            0.44383   \n",
       "4     0.70          8000            0.32247            0.44337   \n",
       "5     0.80          8000            0.32247            0.44337   \n",
       "6     0.75          8000            0.32247            0.44337   \n",
       "7     0.65          8000            0.32247            0.44337   \n",
       "8     0.65          9000            0.32069            0.44351   \n",
       "9     0.80          9000            0.32069            0.44351   \n",
       "10    0.70          9000            0.32069            0.44351   \n",
       "11    0.65         11000            0.31888            0.44184   \n",
       "12    0.85         11000            0.31888            0.44184   \n",
       "13    0.85         10000            0.31911            0.44255   \n",
       "14    0.65         10000            0.31911            0.44255   \n",
       "\n",
       "    f1_score_thresh25  f1_score_thresh20  highest_f1_score  \n",
       "0             0.46282            0.47459           0.47459  \n",
       "1             0.46282            0.47459           0.47459  \n",
       "2             0.46282            0.47459           0.47459  \n",
       "3             0.46282            0.47459           0.47459  \n",
       "4             0.46350            0.47414           0.47414  \n",
       "5             0.46350            0.47414           0.47414  \n",
       "6             0.46350            0.47414           0.47414  \n",
       "7             0.46350            0.47414           0.47414  \n",
       "8             0.46311            0.47409           0.47409  \n",
       "9             0.46311            0.47409           0.47409  \n",
       "10            0.46311            0.47409           0.47409  \n",
       "11            0.46166            0.47366           0.47366  \n",
       "12            0.46166            0.47366           0.47366  \n",
       "13            0.46183            0.47317           0.47317  \n",
       "14            0.46183            0.47317           0.47317  "
      ]
     },
     "execution_count": 49,
     "metadata": {},
     "output_type": "execute_result"
    }
   ],
   "source": [
    "df_hyperparams_used"
   ]
  },
  {
   "cell_type": "code",
   "execution_count": null,
   "metadata": {},
   "outputs": [],
   "source": []
  },
  {
   "cell_type": "markdown",
   "metadata": {},
   "source": [
    "# Build the model (on 100% of the dataset, based on best set of hyperparams)"
   ]
  },
  {
   "cell_type": "code",
   "execution_count": 50,
   "metadata": {},
   "outputs": [
    {
     "name": "stdout",
     "output_type": "stream",
     "text": [
      "<class 'pandas.core.frame.DataFrame'>\n",
      "RangeIndex: 42204 entries, 0 to 42203\n",
      "Data columns (total 4 columns):\n",
      " #   Column     Non-Null Count  Dtype \n",
      "---  ------     --------------  ----- \n",
      " 0   MovieId    42204 non-null  object\n",
      " 1   MovieName  42204 non-null  object\n",
      " 2   Genre      42204 non-null  object\n",
      " 3   Plot       42204 non-null  object\n",
      "dtypes: object(4)\n",
      "memory usage: 1.3+ MB\n"
     ]
    }
   ],
   "source": [
    "df_movie.info()"
   ]
  },
  {
   "cell_type": "code",
   "execution_count": 58,
   "metadata": {},
   "outputs": [
    {
     "name": "stdout",
     "output_type": "stream",
     "text": [
      "Wall time: 2min 26s\n"
     ]
    }
   ],
   "source": [
    "%%time\n",
    "\n",
    "mlb = MultiLabelBinarizer()\n",
    "X = df_movie['Plot'].values\n",
    "y = mlb.fit_transform(df_movie['Genre'])\n",
    "\n",
    "# Create features\n",
    "tfidf = TfidfVectorizer(max_df=0.85, max_features=7000)\n",
    "X = tfidf.fit_transform(raw_documents=X)\n",
    "\n",
    "# Build classifier\n",
    "log_reg = LogisticRegression()\n",
    "ovr_clf = OneVsRestClassifier(estimator=log_reg)\n",
    "ovr_clf.fit(X=X, y=y)"
   ]
  },
  {
   "cell_type": "code",
   "execution_count": null,
   "metadata": {},
   "outputs": [],
   "source": [
    "# %%time\n",
    "\n",
    "# mlb = MultiLabelBinarizer()\n",
    "# X = df_movie['Plot']\n",
    "# y = mlb.fit_transform(df_movie['Genre'])\n",
    "\n",
    "# # Train-test split\n",
    "# X_train, X_test, y_train, y_test = train_test_split(X, y, test_size=0.2, random_state=0)\n",
    "\n",
    "# # Create features\n",
    "# tfidf = TfidfVectorizer(max_df=0.85, max_features=7000)\n",
    "# X_train = tfidf.fit_transform(raw_documents=X_train)\n",
    "# X_test = tfidf.transform(raw_documents=X_test)\n",
    "\n",
    "# # Build classifier\n",
    "# log_reg = LogisticRegression()\n",
    "# ovr_clf = OneVsRestClassifier(estimator=log_reg)\n",
    "# ovr_clf.fit(X=X_train, y=y_train)\n",
    "# y_pred = ovr_clf.predict(X=X_test)"
   ]
  },
  {
   "cell_type": "markdown",
   "metadata": {},
   "source": [
    "# Pickling (saving) model-related objects"
   ]
  },
  {
   "cell_type": "code",
   "execution_count": 59,
   "metadata": {},
   "outputs": [],
   "source": [
    "utils.pickle_save(data_obj=mlb, filepath=config.PATH_MODEL_MLB)\n",
    "utils.pickle_save(data_obj=tfidf, filepath=config.PATH_MODEL_TFIDF)\n",
    "utils.pickle_save(data_obj=ovr_clf, filepath=config.PATH_MODEL_OVR_CLF)"
   ]
  },
  {
   "cell_type": "markdown",
   "metadata": {},
   "source": [
    "# Predict for new data"
   ]
  },
  {
   "cell_type": "code",
   "execution_count": null,
   "metadata": {},
   "outputs": [],
   "source": [
    "# Delete currently existing model-related objects (if they exist)\n",
    "del(mlb)\n",
    "del(tfidf)\n",
    "del(ovr_clf)"
   ]
  },
  {
   "cell_type": "code",
   "execution_count": 77,
   "metadata": {},
   "outputs": [
    {
     "data": {
      "text/plain": [
       "'Genres are Crime Fiction, Drama, Thriller'"
      ]
     },
     "execution_count": 77,
     "metadata": {},
     "output_type": "execute_result"
    }
   ],
   "source": [
    "text = \"\"\"\n",
    "Long-time friends and small-time criminals Eddie, Tom, Soap, and Bacon put together £100,000 so that Eddie, a genius card sharp, can buy into one of \"Hatchet\" Harry Lonsdale's high-stakes three-card brag games. The game is rigged, however, and the friends end up massively indebted to Harry for £500,000. Harry then sends his debt collector Big Chris, who is often accompanied by his son, Little Chris, to ensure that the debt is paid within a week.\n",
    "\n",
    "Harry is also interested in a pair of expensive antique shotguns that are up for auction and gets his enforcer Barry \"the Baptist\" to hire a pair of thieves, Gary and Dean, to steal them from a bankrupt lord. The two turn out to be highly incompetent and unwittingly sell the shotguns to Nick \"the Greek\", a local fence. After learning this, an enraged Barry threatens the two into getting the guns back.\n",
    "\n",
    "Eddie returns home one day and overhears his neighbours—a gang of robbers led by a brutal man called \"Dog\"—planning a heist on some cannabis growers loaded with cash and drugs. Eddie relays this information to the group, intending for them to rob the neighbours as they come back from their heist. In preparation for the robbery, Tom visits Nick the Greek to buy weapons, and ends up buying the two antique shotguns.\n",
    "\n",
    "The neighbours' heist gets underway, and despite a gang member being killed by his own Bren gun, and an incriminating encounter with a traffic warden, the job is a success; they return home with a duffel bag filled with money and a van loaded with bags of marijuana. Eddie and his friends ambush them as planned, and later return to stash their loot next door. They then have Nick fence the drugs to Rory Breaker, a gangster with a reputation for violence. Rory agrees to the deal but later learns that the drugs were stolen from his own growers. Rory threatens Nick into giving him Eddie's address and brings along one of the growers, Winston, to identify the robbers.\n",
    "\n",
    "Eddie and his friends spend the night at Eddie's father's bar to celebrate. Meanwhile, Dog's crew accidentally learns that their neighbours are the ones who robbed them, and set up an ambush in Eddie's flat. Rory and his gang arrive instead and a shootout ensues, resulting in the deaths of all but Dog and Winston. Winston leaves with the drugs; Dog leaves with the two shotguns and the money but is waylaid by Big Chris, who knocks him out and takes everything. Gary and Dean, having learned who bought the shotguns and not knowing that Chris works for Harry, follows Chris to Harry's place.\n",
    "\n",
    "Chris delivers the money and guns to Harry, but when he returns to his car he finds Dog holding Little Chris at knifepoint, demanding the money be returned to him. Chris complies and starts the car. Meanwhile, Gary and Dean burst into Harry's office, starting a confrontation that ends up killing them both, and Harry and Barry as well.\n",
    "\n",
    "Returning to see the carnage at their flat and their loot missing, Eddie and his friends head to Harry's, but when they discover Harry's corpse they decide to take the money for themselves. Before they are able to leave, Chris crashes into their car to disable Dog, and then brutally bludgeons him to death with his car door. He then takes the debt money back from the unconscious friends, but allows Tom to leave with the antique shotguns after a brief standoff in Harry's office.\n",
    "\n",
    "The friends are arrested but declared innocent of recent events after the traffic warden identifies Dog and his crew as the culprits. Back at the bar, they send Tom out to dispose of the antique shotguns—the only remaining evidence linking them to the case. Chris then arrives to give back the duffel bag, from which he has taken all the money for himself and his son, and which is empty except for a catalogue of antique weapons. Leafing through the catalogue, the friends learn that the shotguns are actually quite valuable (worth £250,000 to £300,000), and quickly call Tom. The film ends with Tom leaning over the side of a bridge, with his mobile phone stuffed in his mouth and ringing, as he prepares to drop the shotguns into the River Thames.\n",
    "\"\"\"\n",
    "\n",
    "tuple_genres = predict.predict_genres_from_plot(text=text)\n",
    "utils.prettify_genres(tuple_genres=tuple_genres)"
   ]
  },
  {
   "cell_type": "code",
   "execution_count": 78,
   "metadata": {},
   "outputs": [
    {
     "data": {
      "text/plain": [
       "'Genres are Drama, Sports'"
      ]
     },
     "execution_count": 78,
     "metadata": {},
     "output_type": "execute_result"
    }
   ],
   "source": [
    "text = \"\"\"\n",
    "Chak De! India opens in Delhi during the final minutes of a Hockey World Cup match between Pakistan and India, with Pakistan leading 1–0. When Indian team captain Kabir Khan (Shah Rukh Khan) is fouled, he takes a penalty stroke. His shot just misses, costing India the match. Soon afterwards, media outlets circulate a photograph of Khan shaking hands with the Pakistani captain. The sporting gesture is misunderstood, and the Muslim Khan[11][12] is suspected of \"throwing\" the game out of sympathy towards Pakistan. Religious prejudice[11][12][13] forces him and his mother (Joyshree Arora) from their family home.\n",
    "\n",
    "Seven years later Mr. Tripathi (Anjan Srivastav), the head of India's hockey association, meets with Khan's friend and hockey advocate Uttam Singh (Mohit Chauhan) to discuss the Indian women's hockey team. According to Tripathi, the team has no future since the only long-term role for women is to \"cook and clean\". Uttam, however, tells him that Kabir Khan (whom no one has seen for seven years) wants to coach the team. Initially skeptical, Tripathi agrees to the arrangement.\n",
    "\n",
    "Khan finds himself in charge of a group of 16 young women (each representing a different state), divided by their competitive nature and regional prejudices. Komal Chautala (Chitrashi Rawat), a village girl from Haryana, clashes with Preeti Sabarwal (Sagarika Ghatge) from Chandigarh; short-tempered Balbir Kaur (Tanya Abrol) from Punjab bullies Rani Dispotta (Seema Azmi) and Soimoi Kerketa (Nisha Nair), who are from remote villages in Jharkhand. Mary Ralte (Kimi Laldawla) from Mizoram and Molly Zimik (Masochon \"Chon Chon\" Zimik22), from Manipur in North-East India, face widespread racial discrimination, and sexually suggestive comments from some strangers. Team captain Vidya Sharma (Vidya Malvade) must choose between hockey and the wishes of her husband Rakesh's (Nakul Vaid) family, and Preeti's fiancé—Abhimanyu Singh (Vivan Bhatena), vice-captain of the India national cricket team—feels threatened by her involvement with the team.\n",
    "\n",
    "Khan realizes that he can make the girls winners only if he can help them overcome their differences. During his first few days as coach he benches several players who refuse to follow his rules—including Bindiya Naik (Shilpa Shukla), his most experienced player. In response, Bindiya repeatedly encourages the other players to defy Khan. When she finally succeeds, Khan angrily resigns; however, he invites the staff and team to a farewell lunch at McDonald's. During the lunch, local boys make a pass at Mary; Balbir attacks them, triggering a brawl between the boys and the team. Khan, recognizing that they are acting as one for the first time, prevents the staff from intervening; he only stops a man from hitting one of the women from behind with a cricket bat, telling him that there are no cowards in hockey. In an about-face, after the fight the women ask Khan to remain as their coach.\n",
    "\n",
    "The team faces new challenges. When Tripathi refuses to send the women's team to Australia for the World Cup, Khan proposes a match against the men's team. Although his team loses, their performance inspires Tripathi to send them to Australia after all. Bindiya is upset with Khan for choosing Vidya over her as the captain of the team. The result sees a loss in the tournament with a 7–0 to Australia. When Khan confronts Bindiya about her behavior on the field, Bindiya responds by seducing Khan, to which he rejects her advances and asks her to stay away from the game. Khan goes on to train the girls and again, which is followed by victories over England, Spain, South Africa, New Zealand, Argentina. Just before their game with Korea, Khan approaches Bindiya to go back in the field and break the strategy of 'Man to Man' marking by Korean team so they can win the match. Bindiya goes on to the field and with the help of Gunjan Lakhani manages to beat South Korea. They are again matched with Australia for the final; this time, they defeat the Hockeyroos for the World Cup. When the team returns home, their families treat them with greater respect and Khan, his good name restored, returns with his mother to their ancestral home.\n",
    "\"\"\"\n",
    "\n",
    "tuple_genres = predict.predict_genres_from_plot(text=text)\n",
    "utils.prettify_genres(tuple_genres=tuple_genres)"
   ]
  },
  {
   "cell_type": "code",
   "execution_count": 79,
   "metadata": {},
   "outputs": [
    {
     "data": {
      "text/plain": [
       "'Genres are Action, Thriller'"
      ]
     },
     "execution_count": 79,
     "metadata": {},
     "output_type": "execute_result"
    }
   ],
   "source": [
    "text = \"\"\"\n",
    "Anti-Terrorism Squad (ATS) officer Daanish Ali (Farhan Akhtar) lives with his wife Ruhana (Aditi Rao Hydari) and little daughter Noorie. One day, while Daanish is driving with his wife and daughter, he spots the terrorist Farooq Rameez and chases him. Noorie is killed in the ensuing shootout while Rameez escapes. Ruhana is shattered and blames Daanish for Noorie's death. Daanish later kills Rameez during a police operation, angering his seniors, who wanted Rameez alive to find out which politician he was going to meet.\n",
    "\n",
    "A grief-stricken Daanish is about to kill himself at Noorie's grave when a mysterious van appears, driving off when Daanish yells at it. Daanish finds a wallet lying where the van was, goes to return it, and meets its owner, a handicapped chess master named Pandit Omkar Nath Dhar (Amitabh Bachchan), who turns out to have been Noorie's chess teacher. Pandit starts teaching Daanish chess and tells him about Nina, Pandit's daughter who also died. Nina (Vaidehi Parashurami) had been teaching chess to Ruhi (Mazel Vyas), the daughter of a government minister, Yazaad Qureshi (Manav Kaul), and had fallen down the stairs at Qureshi's house and died. Pandit is convinced that her death was not an accident. Intrigued, Daanish tries to meet Qureshi, but police officers at the minister's office threaten him with arrest. Daanish later meets Ruhi at her school to ask her about Nina, but Ruhi is taken away by Qureshi who threatens her for talking to Daanish. That night Pandit is brutally attacked by Wazir (Neil Nitin Mukesh), a hitman sent by Qureshi, who warns Pandit and Daanish to stop chasing Qureshi.\n",
    "\n",
    "Pandit leaves for Kashmir, where Qureshi is headed. Wazir calls Daanish and threatens to kill Pandit. Daanish frantically chases Pandit's van but Wazir blows it up killing Pandit. Determined to exact revenge and discover who Wazir is, Daanish makes a plan with the Superintendent of Police (SP) Vijay Mallik (John Abraham). During Qureshi's speech, SP detonates explosives, causing a panic, and holds back the police to give Daanish time to act. Qureshi escapes in the confusion and goes to where he and his daughter are staying, but Daanish breaks in and asks him about Wazir. Qureshi claims he does not know anybody called Wazir. Crying, Ruhi reveals to Daanish that Qureshi is not her father – he is actually one of the militants who massacred her entire village and posed as her father when Indian Army troops arrived. Ruhi had told Nina this, so Qureshi killed Nina. Daanish realises that Rameez and the other terrorists had come to meet Qureshi, and kills him.\n",
    "\n",
    "A few days later, while watching Ruhana's play – based on chess and dedicated to Pandit – Daanish realises that Pandit was in fact the play's \"weak pawn\" who befriended a \"strong rook\" (Daanish) who would kill a \"wicked king\" (Qureshi). Shocked, Daanish finds Pandit's housekeeper, who says that she did not actually see Wazir on the night he attacked Pandit. She gives Daanish a USB pen-drive which Pandit had told her to give to Daanish if he came looking for Wazir. The pen-drive contains a video of Pandit, who explains that Wazir never existed – he was just a persona created by Pandit, who knew that, due to his handicap, he was powerless against Qureshi. Pandit intentionally dropped his wallet near Noorie's grave so Daanish could find it and befriend him. His knife wounds from Wazir's attack were self-inflicted, and he had used voice recordings to pose as Wazir on the phone. Pandit had sacrificed himself to ensure that Daanish would kill Qureshi and get revenge for both of them. Shaken by the revelation, Daanish and Ruhana reunite.\n",
    "\"\"\"\n",
    "\n",
    "tuple_genres = predict.predict_genres_from_plot(text=text)\n",
    "utils.prettify_genres(tuple_genres=tuple_genres)"
   ]
  },
  {
   "cell_type": "code",
   "execution_count": null,
   "metadata": {},
   "outputs": [],
   "source": []
  }
 ],
 "metadata": {
  "kernelspec": {
   "display_name": "Python 3",
   "language": "python",
   "name": "python3"
  },
  "language_info": {
   "codemirror_mode": {
    "name": "ipython",
    "version": 3
   },
   "file_extension": ".py",
   "mimetype": "text/x-python",
   "name": "python",
   "nbconvert_exporter": "python",
   "pygments_lexer": "ipython3",
   "version": "3.6.7"
  }
 },
 "nbformat": 4,
 "nbformat_minor": 2
}
